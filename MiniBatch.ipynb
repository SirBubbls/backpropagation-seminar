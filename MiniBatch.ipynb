{
 "cells": [
  {
   "cell_type": "code",
   "execution_count": 1,
   "metadata": {},
   "outputs": [],
   "source": [
    "import numpy as np\n",
    "from random import randint\n",
    "import matplotlib.pyplot as plt\n",
    "import matplotlib.animation as animation"
   ]
  },
  {
   "cell_type": "code",
   "execution_count": 2,
   "metadata": {},
   "outputs": [
    {
     "name": "stdout",
     "output_type": "stream",
     "text": [
      "LeakyReLU:  [1.0, 0.0, -5.0]  ->  [1.0, 0.0, -1.0]\n",
      "LeakyReLU (deriv):  [1.0, 0.0, -5.0]  ->  [1.0, 1.0, 0.2]\n"
     ]
    }
   ],
   "source": [
    "def relu(z, deriv=False):\n",
    "    activations = []\n",
    "    shape = z.shape\n",
    "    z = z.flatten()\n",
    "    if deriv:  # Return Derivative of Function\n",
    "        \n",
    "        for i in range(len(z)):  # Element Wise\n",
    "            if z[i] >= 0:\n",
    "                activations.append(1)\n",
    "            else:\n",
    "                activations.append(0.2)\n",
    "                \n",
    "        return np.array(activations).reshape(shape)\n",
    "    \n",
    "    for i in range(len(z)):\n",
    "        if z[i] > 0:\n",
    "            activations.append(z[i])\n",
    "        else:\n",
    "            activations.append(0.2 * z[i])\n",
    "            \n",
    "    return np.array(activations).reshape(shape)\n",
    "\n",
    "input = [1.,0.,-5.]\n",
    "\n",
    "print('LeakyReLU: ', input, ' -> ', list(relu(np.array(input))))\n",
    "print('LeakyReLU (deriv): ', input, ' -> ', list(relu(np.array(input), True)))"
   ]
  },
  {
   "cell_type": "code",
   "execution_count": 3,
   "metadata": {},
   "outputs": [
    {
     "name": "stdout",
     "output_type": "stream",
     "text": [
      "(3, 2)\n",
      "(3, 3)\n",
      "(1, 3)\n"
     ]
    }
   ],
   "source": [
    "def add_layer(weight, bias, size, input_dim=None):\n",
    "    if not input_dim:\n",
    "        input_dim = weight[-1].shape[0]\n",
    "    weight.append(1 * np.random.uniform(-1, 1, (size, input_dim)))\n",
    "    bias.append(np.zeros(size))\n",
    "    print(weight[-1].shape)\n",
    "\n",
    "w, b = [], []\n",
    "add_layer(w, b, 3, 2)\n",
    "add_layer(w, b, 3)\n",
    "add_layer(w, b, 1)"
   ]
  },
  {
   "cell_type": "code",
   "execution_count": 4,
   "metadata": {},
   "outputs": [
    {
     "name": "stdout",
     "output_type": "stream",
     "text": [
      "h:  [[0 1]\n",
      " [0 4]\n",
      " [1 3]\n",
      " [5 4]] (4, 2)\n",
      "Layer 0 | (2, 3) dot (4, 2)\n",
      "Layer 1 | (3, 3) dot (4, 3)\n",
      "Layer 2 | (3, 1) dot (4, 3)\n"
     ]
    },
    {
     "data": {
      "text/plain": [
       "array([[ 0.12454926],\n",
       "       [ 0.49819706],\n",
       "       [ 0.29871294],\n",
       "       [-0.10089022]])"
      ]
     },
     "execution_count": 4,
     "metadata": {},
     "output_type": "execute_result"
    }
   ],
   "source": [
    "a, z = [], []  # Global Variables\n",
    "\n",
    "\n",
    "def forward_prop(X, do_print=False):\n",
    "    h = X\n",
    "    if do_print: print('h: ', h, h.shape)\n",
    "    global a, z\n",
    "    a,z  = [], []\n",
    "    for i in range(len(w)):\n",
    "        if do_print: print(f'Layer {i} | {w[i].T.shape} dot {h.shape}')\n",
    "        h = h @ w[i].T  # weigt * input\n",
    "        h = h + b[i] # bias add\n",
    "        z.append(h)\n",
    "        h = relu(h) # Activation Function\n",
    "        a.append(h)\n",
    "    return h\n",
    "\n",
    "forward_prop(np.array([\n",
    "    [0,1], \n",
    "    [0, 4], \n",
    "    [1, 3], \n",
    "    [5, 4]]), True)"
   ]
  },
  {
   "cell_type": "code",
   "execution_count": 5,
   "metadata": {},
   "outputs": [
    {
     "name": "stdout",
     "output_type": "stream",
     "text": [
      "(4, 2)\n",
      "(3, 2)\n",
      "(3, 3)\n",
      "(1, 3)\n",
      "[Epoch 0] Loss: 0.26653747571750086\n",
      "[Epoch 1] Loss: 0.2566856514467325\n",
      "[Epoch 2] Loss: 0.1880964544620037\n",
      "[Epoch 3] Loss: 0.13629583696721856\n",
      "[Epoch 4] Loss: 0.12594758896617184\n",
      "[Epoch 5] Loss: 0.12027495473788216\n",
      "[Epoch 6] Loss: 0.11748132388200819\n",
      "[Epoch 7] Loss: 0.11437981091119351\n",
      "[Epoch 8] Loss: 0.1105386333805781\n",
      "[Epoch 9] Loss: 0.10609238279785696\n",
      "[Epoch 10] Loss: 0.10149943962946484\n",
      "[Epoch 11] Loss: 0.09751976201422782\n",
      "[Epoch 12] Loss: 0.09461208548678167\n",
      "[Epoch 13] Loss: 0.09260258769921699\n",
      "[Epoch 14] Loss: 0.09108657240967481\n",
      "[Epoch 15] Loss: 0.0898459764126605\n",
      "[Epoch 16] Loss: 0.08868521437596437\n",
      "[Epoch 17] Loss: 0.08753815360599879\n",
      "[Epoch 18] Loss: 0.0862616846293354\n",
      "[Epoch 19] Loss: 0.0820919872940937\n",
      "[Epoch 20] Loss: 0.07998234257918932\n",
      "[Epoch 21] Loss: 0.07774228119446737\n",
      "[Epoch 22] Loss: 0.07324723343927313\n",
      "[Epoch 23] Loss: 0.06535071801534258\n",
      "[Epoch 24] Loss: 0.05286032012136518\n",
      "[Epoch 25] Loss: 0.03630211999089078\n",
      "[Epoch 26] Loss: 0.020385253918065897\n",
      "[Epoch 27] Loss: 0.010619919876109302\n",
      "[Epoch 28] Loss: 0.00629642000547079\n",
      "[Epoch 29] Loss: 0.0040697020741474\n",
      "[Epoch 30] Loss: 0.002845144648166465\n",
      "[Epoch 31] Loss: 0.002062484859864176\n",
      "[Epoch 32] Loss: 0.0014997462779549622\n",
      "[Epoch 33] Loss: 0.0010948589710230198\n",
      "[Epoch 34] Loss: 0.0008042971371622837\n",
      "[Epoch 35] Loss: 0.0005961893756445205\n",
      "[Epoch 36] Loss: 0.00044734323292315554\n",
      "[Epoch 37] Loss: 0.00034096822140225523\n",
      "[Epoch 38] Loss: 0.00026495962721843636\n",
      "[Epoch 39] Loss: 0.00021062095614820812\n",
      "[Epoch 40] Loss: 0.00017172211531698696\n",
      "[Epoch 41] Loss: 0.00014381044526154594\n",
      "[Epoch 42] Loss: 0.0001237098392280979\n",
      "[Epoch 43] Loss: 0.00010915843054215217\n",
      "[Epoch 44] Loss: 9.854758785713137e-05\n",
      "[[ 0.999]\n",
      " [ 0.999]\n",
      " [-0.022]\n",
      " [ 0.016]]\n"
     ]
    }
   ],
   "source": [
    "np.set_printoptions(precision=3)\n",
    "\n",
    "X = np.array([[1,0], \n",
    "              [0,1], \n",
    "              [1,1], \n",
    "              [0,0]])\n",
    "print(X.shape)\n",
    "y = np.array([[1], [1], [0], [0]])\n",
    "\n",
    "learning_rate = 0.3\n",
    "\n",
    "def loss(pred, y, deriv=False):\n",
    "    return 0.5* 1/len(y) * np.sum((pred - y)**2)\n",
    "    \n",
    "def backprop_entry(X, label, print_loss=False):\n",
    "    global a, z, w, b, n_weights, n_bias, learning_rate\n",
    "    n_weights, n_bias = [], []\n",
    "    y = forward_prop(X)\n",
    "#     print(y.T, label.T)\n",
    "    backprop_rec(0, X, y, label)\n",
    "    \n",
    "    # Update Weights\n",
    "    w = list(reversed(n_weights))\n",
    "    b = list(reversed(n_bias))\n",
    "    if print_loss:\n",
    "        loss(y, label)\n",
    "    return loss(y, label)  # Return Loss\n",
    "\n",
    "\n",
    "def backprop_rec(i, X, y, label):\n",
    "    global a, z, w, b, n_weights, n_bias\n",
    "    # Base Case\n",
    "    if i+1 > len(w): \n",
    "        return (y - label)\n",
    "    g = backprop_rec(i+1, X, y, label) * relu(z[i], True)  # Get Next Layer Derivative\n",
    "#     print(\"Jacobi\", g.shape)\n",
    "    # Derivative with respect to weight [1xn]  \n",
    "    if i-1 < 0: w_der = X  # Input Matrix\n",
    "    else: w_der = a[i-1]  # Previous Layer Activation\n",
    "\n",
    "    # Save change in weights\n",
    "#     print(\"Weight Deriv:\", w_der.shape, (w_der.T @ g).shape)\n",
    "    n_weights.append(w[i] - learning_rate * 1/len(X) * (w_der.T @ g).T)\n",
    "    n_bias.append(b[i] - learning_rate * 1/len(X) * np.mean(g, axis=0))\n",
    "    \n",
    "#     print('new weight',np.mean(g,axis=0).shape, b[i].shape)\n",
    "    \n",
    "    return g @ w[i]\n",
    "\n",
    "def train_rec(epochs, size=100, threshold=0.0001, print_interval=1):\n",
    "    l = []\n",
    "    for i in range(epochs):\n",
    "        sum_loss = 0.0\n",
    "        for x in range(size):\n",
    "            sum_loss += backprop_entry(X, y)\n",
    "        l.append(sum_loss/size)\n",
    "        if not i % print_interval: print(f'[Epoch {i}] Loss: {l[-1]}')\n",
    "        if l[-1] < threshold or l[-1] != l[-1]: break\n",
    "    return np.array(l).flatten()\n",
    "\n",
    "# Reinitialize Wei\n",
    "w, b = [], []\n",
    "add_layer(w, b, 3, 2)\n",
    "add_layer(w, b, 3)\n",
    "add_layer(w, b, 1)\n",
    "\n",
    "loss_over_time = train_rec(100,10)\n",
    "\n",
    "print(forward_prop(np.array([[1,0], \n",
    "                             [0,1], \n",
    "                             [1,1], \n",
    "                             [0,0]])))"
   ]
  },
  {
   "cell_type": "code",
   "execution_count": 6,
   "metadata": {},
   "outputs": [
    {
     "name": "stdout",
     "output_type": "stream",
     "text": [
      "(3, 4)\n",
      "(3, 3)\n",
      "(3, 3)\n"
     ]
    },
    {
     "data": {
      "text/plain": [
       "(array([[6. , 3. , 4.8, 1.8],\n",
       "        [5.9, 3. , 5.1, 1.8]]), array([[0., 0., 1.],\n",
       "        [0., 0., 1.]]))"
      ]
     },
     "execution_count": 6,
     "metadata": {},
     "output_type": "execute_result"
    }
   ],
   "source": [
    "import pandas as pd\n",
    "data = pd.read_csv('./data/iris.data', header=None)\n",
    "\n",
    "data = pd.concat([data,pd.get_dummies(data.iloc()[:,4])],axis=1)\n",
    "data = data.drop(data.columns[4], axis=1)\n",
    "\n",
    "w, b = [], []\n",
    "add_layer(w, b, 3, 4)\n",
    "add_layer(w, b, 3)\n",
    "add_layer(w, b, 3)\n",
    "\n",
    "def get_batch(size):\n",
    "    d = data.sample(size, replace=True).to_numpy()\n",
    "    return d[:,:4], d[:, 4:]\n",
    "get_batch(2)"
   ]
  },
  {
   "cell_type": "code",
   "execution_count": 7,
   "metadata": {},
   "outputs": [],
   "source": [
    "def save_animation(fig):\n",
    "    global images\n",
    "    ani = animation.ArtistAnimation(fig, ims, interval=50, blit=True,repeat_delay=1000)\n",
    "\n",
    "def plot(size, save=None, title=''):\n",
    "    fig = plt.figure(figsize=(12,12))\n",
    "    ax = fig.add_subplot(111, projection='3d')\n",
    "    \n",
    "    setosa = data.loc[data['Iris-setosa'] == 1]\n",
    "    xs, ys, zs, c = setosa.iloc()[:,0], setosa.iloc()[:,1], setosa.iloc()[:,2], setosa.iloc()[:,3]\n",
    "    ax.scatter(xs, ys, zs, marker='+', c=c, cmap=plt.hot(), s=size[data['Iris-setosa'] == 1])\n",
    "\n",
    "    setosa = data.loc[data['Iris-versicolor'] == 1]\n",
    "    xs, ys, zs, c = setosa.iloc()[:,0], setosa.iloc()[:,1], setosa.iloc()[:,2], setosa.iloc()[:,3]\n",
    "    ax.scatter(xs, ys, zs, marker='o', c=c, cmap=plt.hot(), s=size[data['Iris-setosa'] == 1])\n",
    "\n",
    "    setosa = data.loc[data['Iris-virginica'] == 1]\n",
    "    xs, ys, zs, c = setosa.iloc()[:,0], setosa.iloc()[:,1], setosa.iloc()[:,2], setosa.iloc()[:,3]\n",
    "    ax.scatter(xs, ys, zs, marker='2', c=c, cmap=plt.hot(), s=size[data['Iris-setosa'] == 1])\n",
    "    ax.set_title(title, loc='left')\n",
    "    if save:\n",
    "        plt.savefig(save)\n",
    "    else:\n",
    "        plt.show()\n",
    "    \n",
    "    plt.clf()\n"
   ]
  },
  {
   "cell_type": "code",
   "execution_count": 8,
   "metadata": {},
   "outputs": [
    {
     "name": "stdout",
     "output_type": "stream",
     "text": [
      "Prediction: 2 (1) [0.5511470323484505]\n",
      "Prediction: 2 (0) [0.31169476814677777]\n",
      "Prediction: 2 (2) [0.06260242414138231]\n",
      "Prediction: 2 (2) [0.10881020056797604]\n",
      "Prediction: 2 (1) [0.5592752049396987]\n",
      "Prediction: 2 (1) [0.4813903133766376]\n",
      "Prediction: 2 (0) [0.28714608607973957]\n",
      "Prediction: 2 (0) [0.30960119704206657]\n",
      "Prediction: 2 (0) [0.3306110469393563]\n",
      "Prediction: 2 (0) [0.288530479182536]\n",
      "Prediction: 2 (2) [0.1469414285418094]\n",
      "Prediction: 2 (1) [0.4728110587351098]\n",
      "Prediction: 2 (2) [0.08263965370094531]\n",
      "Prediction: 2 (0) [0.28959165425686095]\n",
      "Prediction: 2 (1) [0.5993567406041197]\n",
      "Prediction: 2 (2) [0.1725680993409199]\n",
      "Prediction: 2 (0) [0.29208516242081783]\n",
      "Prediction: 2 (2) [0.07885761734943578]\n",
      "Prediction: 2 (2) [0.06271805409918188]\n",
      "Prediction: 2 (0) [0.33507901024347975]\n"
     ]
    }
   ],
   "source": [
    "def eval_iris():\n",
    "    X, y = get_batch(20)\n",
    "    pred = forward_prop(X)\n",
    "    for p, label in zip(pred, y):\n",
    "        print(f'Prediction: {np.argmax(p)} ({np.argmax(label)}) [{loss(p, label)}]')\n",
    "eval_iris()"
   ]
  },
  {
   "cell_type": "code",
   "execution_count": 30,
   "metadata": {},
   "outputs": [
    {
     "name": "stdout",
     "output_type": "stream",
     "text": [
      "(3, 4)\n",
      "(9, 3)\n",
      "(9, 9)\n",
      "(3, 9)\n",
      "[Epoch: 0] Loss: 1.2137183385046155\n",
      "[Epoch: 10] Loss: 0.7117066899717497\n",
      "[Epoch: 20] Loss: 0.5694374662835284\n",
      "[Epoch: 30] Loss: 0.5082335075488582\n",
      "[Epoch: 40] Loss: 0.4784308773590633\n",
      "[Epoch: 50] Loss: 0.4632331490907975\n",
      "[Epoch: 60] Loss: 0.4383525946338631\n",
      "[Epoch: 70] Loss: 0.4331607062049674\n",
      "[Epoch: 80] Loss: 0.42741212154196784\n",
      "[Epoch: 90] Loss: 0.3943878509222643\n",
      "[Epoch: 100] Loss: 0.3854277006937037\n",
      "[Epoch: 110] Loss: 0.3950156996963507\n",
      "[Epoch: 120] Loss: 0.3764879030165527\n",
      "[Epoch: 130] Loss: 0.34835935527595774\n",
      "[Epoch: 140] Loss: 0.33526177759501213\n",
      "[Epoch: 150] Loss: 0.30671324925326243\n",
      "[Epoch: 160] Loss: 0.2996637776801248\n",
      "[Epoch: 170] Loss: 0.3015765537250387\n",
      "[Epoch: 180] Loss: 0.30652127988504185\n",
      "[Epoch: 190] Loss: 0.296626504442253\n"
     ]
    },
    {
     "name": "stderr",
     "output_type": "stream",
     "text": [
      "/usr/local/lib/python3.7/site-packages/ipykernel_launcher.py:6: RuntimeWarning: More than 20 figures have been opened. Figures created through the pyplot interface (`matplotlib.pyplot.figure`) are retained until explicitly closed and may consume too much memory. (To control this warning, see the rcParam `figure.max_open_warning`).\n",
      "  \n"
     ]
    },
    {
     "name": "stdout",
     "output_type": "stream",
     "text": [
      "[Epoch: 200] Loss: 0.2801816568796253\n",
      "[Epoch: 210] Loss: 0.2778022397480799\n",
      "[Epoch: 220] Loss: 0.26209437254375506\n",
      "[Epoch: 230] Loss: 0.24120957277771235\n",
      "[Epoch: 240] Loss: 0.2392531418226996\n",
      "[Epoch: 250] Loss: 0.22570342469389373\n",
      "[Epoch: 260] Loss: 0.22407532060889868\n",
      "[Epoch: 270] Loss: 0.21915428405781526\n",
      "[Epoch: 280] Loss: 0.20907415614180666\n",
      "[Epoch: 290] Loss: 0.20044287882354883\n",
      "[Epoch: 300] Loss: 0.20417230365843222\n",
      "[Epoch: 310] Loss: 0.1997549569360276\n",
      "[Epoch: 320] Loss: 0.18789309492369874\n",
      "[Epoch: 330] Loss: 0.1763895989103186\n",
      "[Epoch: 340] Loss: 0.1796972231474691\n",
      "[Epoch: 350] Loss: 0.17896724606598155\n",
      "[Epoch: 360] Loss: 0.17714663723845364\n",
      "[Epoch: 370] Loss: 0.16741728219957183\n",
      "[Epoch: 380] Loss: 0.16606038806132445\n",
      "[Epoch: 390] Loss: 0.16696449146585884\n",
      "[Epoch: 400] Loss: 0.16402764997451777\n",
      "[Epoch: 410] Loss: 0.1668788132304621\n",
      "[Epoch: 420] Loss: 0.16365332447482434\n",
      "[Epoch: 430] Loss: 0.15795094810500063\n",
      "[Epoch: 440] Loss: 0.156100664916848\n",
      "[Epoch: 450] Loss: 0.15420762565835425\n",
      "[Epoch: 460] Loss: 0.15904144965368142\n",
      "[Epoch: 470] Loss: 0.14529785265909434\n",
      "[Epoch: 480] Loss: 0.14980335368615713\n",
      "[Epoch: 490] Loss: 0.14362964015177188\n",
      "[Epoch: 500] Loss: 0.13822229459527005\n",
      "[Epoch: 510] Loss: 0.13648303677228568\n",
      "[Epoch: 520] Loss: 0.1316791546757755\n",
      "[Epoch: 530] Loss: 0.12238769406399166\n",
      "[Epoch: 540] Loss: 0.11697264040789689\n",
      "[Epoch: 550] Loss: 0.11511130273621378\n",
      "[Epoch: 560] Loss: 0.11831986950764735\n",
      "[Epoch: 570] Loss: 0.1099595188003585\n",
      "[Epoch: 580] Loss: 0.1032047645493116\n",
      "[Epoch: 590] Loss: 0.10263764368983928\n",
      "[Epoch: 600] Loss: 0.09538364662905008\n",
      "[Epoch: 610] Loss: 0.09794831067405751\n",
      "[Epoch: 620] Loss: 0.09058542693266189\n",
      "[Epoch: 630] Loss: 0.09557476462944993\n",
      "[Epoch: 640] Loss: 0.09239429390909393\n",
      "[Epoch: 650] Loss: 0.09083103927277061\n",
      "[Epoch: 660] Loss: 0.08325578014134223\n",
      "[Epoch: 670] Loss: 0.08696279408772702\n",
      "[Epoch: 680] Loss: 0.08621665864572371\n",
      "[Epoch: 690] Loss: 0.08310536183189285\n",
      "[Epoch: 700] Loss: 0.0834407008157134\n",
      "[Epoch: 710] Loss: 0.08238436006693038\n",
      "[Epoch: 720] Loss: 0.07991218287547025\n",
      "[Epoch: 730] Loss: 0.07496295388792813\n",
      "[Epoch: 740] Loss: 0.07436825991998425\n",
      "[Epoch: 750] Loss: 0.06865633381126765\n",
      "[Epoch: 760] Loss: 0.07208172807091912\n",
      "[Epoch: 770] Loss: 0.06977924134949348\n",
      "[Epoch: 780] Loss: 0.07056112271330965\n",
      "[Epoch: 790] Loss: 0.07208998282570975\n",
      "[Epoch: 800] Loss: 0.06845626734342489\n",
      "[Epoch: 810] Loss: 0.06999101715534914\n",
      "[Epoch: 820] Loss: 0.06375302361565263\n",
      "[Epoch: 830] Loss: 0.06486994195169128\n",
      "[Epoch: 840] Loss: 0.06492677587614369\n",
      "[Epoch: 850] Loss: 0.06733492137649366\n",
      "[Epoch: 860] Loss: 0.0632787220488092\n",
      "[Epoch: 870] Loss: 0.061470186600020175\n",
      "[Epoch: 880] Loss: 0.06097683957893957\n",
      "[Epoch: 890] Loss: 0.06247061221200225\n",
      "[Epoch: 900] Loss: 0.057692258609667944\n",
      "[Epoch: 910] Loss: 0.05922529561483909\n",
      "[Epoch: 920] Loss: 0.05444677711771657\n",
      "[Epoch: 930] Loss: 0.0543610736320311\n",
      "[Epoch: 940] Loss: 0.06662904808967571\n",
      "[Epoch: 950] Loss: 0.05612189037460311\n",
      "[Epoch: 960] Loss: 0.0570751684700594\n",
      "[Epoch: 970] Loss: 0.05372299565427832\n",
      "[Epoch: 980] Loss: 0.053575307520673125\n",
      "[Epoch: 990] Loss: 0.05243739184577849\n",
      "Prediction: 1 (1) [0.00787104361680695]\n",
      "Prediction: 1 (1) [0.00914613413877721]\n",
      "Prediction: 0 (0) [0.004651701281097399]\n",
      "Prediction: 1 (1) [0.0022497018220526766]\n",
      "Prediction: 0 (0) [0.0026679585774399693]\n",
      "Prediction: 2 (2) [0.017853072583948443]\n",
      "Prediction: 1 (1) [0.0032962278870921147]\n",
      "Prediction: 1 (1) [0.004263581177649799]\n",
      "Prediction: 1 (1) [0.005153856393641805]\n",
      "Prediction: 2 (2) [0.011881639417698903]\n",
      "Prediction: 1 (1) [0.02663927873768855]\n",
      "Prediction: 1 (1) [0.005925056269972946]\n",
      "Prediction: 2 (1) [0.092247462871905]\n",
      "Prediction: 1 (1) [0.005925056269972946]\n",
      "Prediction: 0 (0) [0.0023131548090400567]\n",
      "Prediction: 1 (1) [0.00877151136867106]\n",
      "Prediction: 2 (2) [0.01494854735530713]\n",
      "Prediction: 1 (1) [0.006728722268456803]\n",
      "Prediction: 0 (0) [0.002966732130719729]\n",
      "Prediction: 1 (1) [0.028939736299301855]\n"
     ]
    },
    {
     "data": {
      "text/plain": [
       "<Figure size 864x864 with 0 Axes>"
      ]
     },
     "metadata": {},
     "output_type": "display_data"
    },
    {
     "data": {
      "text/plain": [
       "<Figure size 864x864 with 0 Axes>"
      ]
     },
     "metadata": {},
     "output_type": "display_data"
    },
    {
     "data": {
      "text/plain": [
       "<Figure size 864x864 with 0 Axes>"
      ]
     },
     "metadata": {},
     "output_type": "display_data"
    },
    {
     "data": {
      "text/plain": [
       "<Figure size 864x864 with 0 Axes>"
      ]
     },
     "metadata": {},
     "output_type": "display_data"
    },
    {
     "data": {
      "text/plain": [
       "<Figure size 864x864 with 0 Axes>"
      ]
     },
     "metadata": {},
     "output_type": "display_data"
    },
    {
     "data": {
      "text/plain": [
       "<Figure size 864x864 with 0 Axes>"
      ]
     },
     "metadata": {},
     "output_type": "display_data"
    },
    {
     "data": {
      "text/plain": [
       "<Figure size 864x864 with 0 Axes>"
      ]
     },
     "metadata": {},
     "output_type": "display_data"
    },
    {
     "data": {
      "text/plain": [
       "<Figure size 864x864 with 0 Axes>"
      ]
     },
     "metadata": {},
     "output_type": "display_data"
    },
    {
     "data": {
      "text/plain": [
       "<Figure size 864x864 with 0 Axes>"
      ]
     },
     "metadata": {},
     "output_type": "display_data"
    },
    {
     "data": {
      "text/plain": [
       "<Figure size 864x864 with 0 Axes>"
      ]
     },
     "metadata": {},
     "output_type": "display_data"
    },
    {
     "data": {
      "text/plain": [
       "<Figure size 864x864 with 0 Axes>"
      ]
     },
     "metadata": {},
     "output_type": "display_data"
    },
    {
     "data": {
      "text/plain": [
       "<Figure size 864x864 with 0 Axes>"
      ]
     },
     "metadata": {},
     "output_type": "display_data"
    },
    {
     "data": {
      "text/plain": [
       "<Figure size 864x864 with 0 Axes>"
      ]
     },
     "metadata": {},
     "output_type": "display_data"
    },
    {
     "data": {
      "text/plain": [
       "<Figure size 864x864 with 0 Axes>"
      ]
     },
     "metadata": {},
     "output_type": "display_data"
    },
    {
     "data": {
      "text/plain": [
       "<Figure size 864x864 with 0 Axes>"
      ]
     },
     "metadata": {},
     "output_type": "display_data"
    },
    {
     "data": {
      "text/plain": [
       "<Figure size 864x864 with 0 Axes>"
      ]
     },
     "metadata": {},
     "output_type": "display_data"
    },
    {
     "data": {
      "text/plain": [
       "<Figure size 864x864 with 0 Axes>"
      ]
     },
     "metadata": {},
     "output_type": "display_data"
    },
    {
     "data": {
      "text/plain": [
       "<Figure size 864x864 with 0 Axes>"
      ]
     },
     "metadata": {},
     "output_type": "display_data"
    },
    {
     "data": {
      "text/plain": [
       "<Figure size 864x864 with 0 Axes>"
      ]
     },
     "metadata": {},
     "output_type": "display_data"
    },
    {
     "data": {
      "text/plain": [
       "<Figure size 864x864 with 0 Axes>"
      ]
     },
     "metadata": {},
     "output_type": "display_data"
    },
    {
     "data": {
      "text/plain": [
       "<Figure size 864x864 with 0 Axes>"
      ]
     },
     "metadata": {},
     "output_type": "display_data"
    },
    {
     "data": {
      "text/plain": [
       "<Figure size 864x864 with 0 Axes>"
      ]
     },
     "metadata": {},
     "output_type": "display_data"
    },
    {
     "data": {
      "text/plain": [
       "<Figure size 864x864 with 0 Axes>"
      ]
     },
     "metadata": {},
     "output_type": "display_data"
    },
    {
     "data": {
      "text/plain": [
       "<Figure size 864x864 with 0 Axes>"
      ]
     },
     "metadata": {},
     "output_type": "display_data"
    },
    {
     "data": {
      "text/plain": [
       "<Figure size 864x864 with 0 Axes>"
      ]
     },
     "metadata": {},
     "output_type": "display_data"
    },
    {
     "data": {
      "text/plain": [
       "<Figure size 864x864 with 0 Axes>"
      ]
     },
     "metadata": {},
     "output_type": "display_data"
    },
    {
     "data": {
      "text/plain": [
       "<Figure size 864x864 with 0 Axes>"
      ]
     },
     "metadata": {},
     "output_type": "display_data"
    },
    {
     "data": {
      "text/plain": [
       "<Figure size 864x864 with 0 Axes>"
      ]
     },
     "metadata": {},
     "output_type": "display_data"
    },
    {
     "data": {
      "text/plain": [
       "<Figure size 864x864 with 0 Axes>"
      ]
     },
     "metadata": {},
     "output_type": "display_data"
    },
    {
     "data": {
      "text/plain": [
       "<Figure size 864x864 with 0 Axes>"
      ]
     },
     "metadata": {},
     "output_type": "display_data"
    },
    {
     "data": {
      "text/plain": [
       "<Figure size 864x864 with 0 Axes>"
      ]
     },
     "metadata": {},
     "output_type": "display_data"
    },
    {
     "data": {
      "text/plain": [
       "<Figure size 864x864 with 0 Axes>"
      ]
     },
     "metadata": {},
     "output_type": "display_data"
    },
    {
     "data": {
      "text/plain": [
       "<Figure size 864x864 with 0 Axes>"
      ]
     },
     "metadata": {},
     "output_type": "display_data"
    },
    {
     "data": {
      "text/plain": [
       "<Figure size 864x864 with 0 Axes>"
      ]
     },
     "metadata": {},
     "output_type": "display_data"
    },
    {
     "data": {
      "text/plain": [
       "<Figure size 864x864 with 0 Axes>"
      ]
     },
     "metadata": {},
     "output_type": "display_data"
    },
    {
     "data": {
      "text/plain": [
       "<Figure size 864x864 with 0 Axes>"
      ]
     },
     "metadata": {},
     "output_type": "display_data"
    },
    {
     "data": {
      "text/plain": [
       "<Figure size 864x864 with 0 Axes>"
      ]
     },
     "metadata": {},
     "output_type": "display_data"
    },
    {
     "data": {
      "text/plain": [
       "<Figure size 864x864 with 0 Axes>"
      ]
     },
     "metadata": {},
     "output_type": "display_data"
    },
    {
     "data": {
      "text/plain": [
       "<Figure size 864x864 with 0 Axes>"
      ]
     },
     "metadata": {},
     "output_type": "display_data"
    },
    {
     "data": {
      "text/plain": [
       "<Figure size 864x864 with 0 Axes>"
      ]
     },
     "metadata": {},
     "output_type": "display_data"
    },
    {
     "data": {
      "text/plain": [
       "<Figure size 864x864 with 0 Axes>"
      ]
     },
     "metadata": {},
     "output_type": "display_data"
    },
    {
     "data": {
      "text/plain": [
       "<Figure size 864x864 with 0 Axes>"
      ]
     },
     "metadata": {},
     "output_type": "display_data"
    },
    {
     "data": {
      "text/plain": [
       "<Figure size 864x864 with 0 Axes>"
      ]
     },
     "metadata": {},
     "output_type": "display_data"
    },
    {
     "data": {
      "text/plain": [
       "<Figure size 864x864 with 0 Axes>"
      ]
     },
     "metadata": {},
     "output_type": "display_data"
    },
    {
     "data": {
      "text/plain": [
       "<Figure size 864x864 with 0 Axes>"
      ]
     },
     "metadata": {},
     "output_type": "display_data"
    },
    {
     "data": {
      "text/plain": [
       "<Figure size 864x864 with 0 Axes>"
      ]
     },
     "metadata": {},
     "output_type": "display_data"
    },
    {
     "data": {
      "text/plain": [
       "<Figure size 864x864 with 0 Axes>"
      ]
     },
     "metadata": {},
     "output_type": "display_data"
    },
    {
     "data": {
      "text/plain": [
       "<Figure size 864x864 with 0 Axes>"
      ]
     },
     "metadata": {},
     "output_type": "display_data"
    },
    {
     "data": {
      "text/plain": [
       "<Figure size 864x864 with 0 Axes>"
      ]
     },
     "metadata": {},
     "output_type": "display_data"
    },
    {
     "data": {
      "text/plain": [
       "<Figure size 864x864 with 0 Axes>"
      ]
     },
     "metadata": {},
     "output_type": "display_data"
    },
    {
     "data": {
      "text/plain": [
       "<Figure size 864x864 with 0 Axes>"
      ]
     },
     "metadata": {},
     "output_type": "display_data"
    },
    {
     "data": {
      "text/plain": [
       "<Figure size 864x864 with 0 Axes>"
      ]
     },
     "metadata": {},
     "output_type": "display_data"
    },
    {
     "data": {
      "text/plain": [
       "<Figure size 864x864 with 0 Axes>"
      ]
     },
     "metadata": {},
     "output_type": "display_data"
    },
    {
     "data": {
      "text/plain": [
       "<Figure size 864x864 with 0 Axes>"
      ]
     },
     "metadata": {},
     "output_type": "display_data"
    },
    {
     "data": {
      "text/plain": [
       "<Figure size 864x864 with 0 Axes>"
      ]
     },
     "metadata": {},
     "output_type": "display_data"
    },
    {
     "data": {
      "text/plain": [
       "<Figure size 864x864 with 0 Axes>"
      ]
     },
     "metadata": {},
     "output_type": "display_data"
    },
    {
     "data": {
      "text/plain": [
       "<Figure size 864x864 with 0 Axes>"
      ]
     },
     "metadata": {},
     "output_type": "display_data"
    },
    {
     "data": {
      "text/plain": [
       "<Figure size 864x864 with 0 Axes>"
      ]
     },
     "metadata": {},
     "output_type": "display_data"
    },
    {
     "data": {
      "text/plain": [
       "<Figure size 864x864 with 0 Axes>"
      ]
     },
     "metadata": {},
     "output_type": "display_data"
    },
    {
     "data": {
      "text/plain": [
       "<Figure size 864x864 with 0 Axes>"
      ]
     },
     "metadata": {},
     "output_type": "display_data"
    },
    {
     "data": {
      "text/plain": [
       "<Figure size 864x864 with 0 Axes>"
      ]
     },
     "metadata": {},
     "output_type": "display_data"
    },
    {
     "data": {
      "text/plain": [
       "<Figure size 864x864 with 0 Axes>"
      ]
     },
     "metadata": {},
     "output_type": "display_data"
    },
    {
     "data": {
      "text/plain": [
       "<Figure size 864x864 with 0 Axes>"
      ]
     },
     "metadata": {},
     "output_type": "display_data"
    },
    {
     "data": {
      "text/plain": [
       "<Figure size 864x864 with 0 Axes>"
      ]
     },
     "metadata": {},
     "output_type": "display_data"
    },
    {
     "data": {
      "text/plain": [
       "<Figure size 864x864 with 0 Axes>"
      ]
     },
     "metadata": {},
     "output_type": "display_data"
    },
    {
     "data": {
      "text/plain": [
       "<Figure size 864x864 with 0 Axes>"
      ]
     },
     "metadata": {},
     "output_type": "display_data"
    },
    {
     "data": {
      "text/plain": [
       "<Figure size 864x864 with 0 Axes>"
      ]
     },
     "metadata": {},
     "output_type": "display_data"
    },
    {
     "data": {
      "text/plain": [
       "<Figure size 864x864 with 0 Axes>"
      ]
     },
     "metadata": {},
     "output_type": "display_data"
    },
    {
     "data": {
      "text/plain": [
       "<Figure size 864x864 with 0 Axes>"
      ]
     },
     "metadata": {},
     "output_type": "display_data"
    },
    {
     "data": {
      "text/plain": [
       "<Figure size 864x864 with 0 Axes>"
      ]
     },
     "metadata": {},
     "output_type": "display_data"
    },
    {
     "data": {
      "text/plain": [
       "<Figure size 864x864 with 0 Axes>"
      ]
     },
     "metadata": {},
     "output_type": "display_data"
    },
    {
     "data": {
      "text/plain": [
       "<Figure size 864x864 with 0 Axes>"
      ]
     },
     "metadata": {},
     "output_type": "display_data"
    },
    {
     "data": {
      "text/plain": [
       "<Figure size 864x864 with 0 Axes>"
      ]
     },
     "metadata": {},
     "output_type": "display_data"
    },
    {
     "data": {
      "text/plain": [
       "<Figure size 864x864 with 0 Axes>"
      ]
     },
     "metadata": {},
     "output_type": "display_data"
    },
    {
     "data": {
      "text/plain": [
       "<Figure size 864x864 with 0 Axes>"
      ]
     },
     "metadata": {},
     "output_type": "display_data"
    },
    {
     "data": {
      "text/plain": [
       "<Figure size 864x864 with 0 Axes>"
      ]
     },
     "metadata": {},
     "output_type": "display_data"
    },
    {
     "data": {
      "text/plain": [
       "<Figure size 864x864 with 0 Axes>"
      ]
     },
     "metadata": {},
     "output_type": "display_data"
    },
    {
     "data": {
      "text/plain": [
       "<Figure size 864x864 with 0 Axes>"
      ]
     },
     "metadata": {},
     "output_type": "display_data"
    },
    {
     "data": {
      "text/plain": [
       "<Figure size 864x864 with 0 Axes>"
      ]
     },
     "metadata": {},
     "output_type": "display_data"
    },
    {
     "data": {
      "text/plain": [
       "<Figure size 864x864 with 0 Axes>"
      ]
     },
     "metadata": {},
     "output_type": "display_data"
    },
    {
     "data": {
      "text/plain": [
       "<Figure size 864x864 with 0 Axes>"
      ]
     },
     "metadata": {},
     "output_type": "display_data"
    },
    {
     "data": {
      "text/plain": [
       "<Figure size 864x864 with 0 Axes>"
      ]
     },
     "metadata": {},
     "output_type": "display_data"
    },
    {
     "data": {
      "text/plain": [
       "<Figure size 864x864 with 0 Axes>"
      ]
     },
     "metadata": {},
     "output_type": "display_data"
    },
    {
     "data": {
      "text/plain": [
       "<Figure size 864x864 with 0 Axes>"
      ]
     },
     "metadata": {},
     "output_type": "display_data"
    },
    {
     "data": {
      "text/plain": [
       "<Figure size 864x864 with 0 Axes>"
      ]
     },
     "metadata": {},
     "output_type": "display_data"
    },
    {
     "data": {
      "text/plain": [
       "<Figure size 864x864 with 0 Axes>"
      ]
     },
     "metadata": {},
     "output_type": "display_data"
    },
    {
     "data": {
      "text/plain": [
       "<Figure size 864x864 with 0 Axes>"
      ]
     },
     "metadata": {},
     "output_type": "display_data"
    },
    {
     "data": {
      "text/plain": [
       "<Figure size 864x864 with 0 Axes>"
      ]
     },
     "metadata": {},
     "output_type": "display_data"
    },
    {
     "data": {
      "text/plain": [
       "<Figure size 864x864 with 0 Axes>"
      ]
     },
     "metadata": {},
     "output_type": "display_data"
    },
    {
     "data": {
      "text/plain": [
       "<Figure size 864x864 with 0 Axes>"
      ]
     },
     "metadata": {},
     "output_type": "display_data"
    },
    {
     "data": {
      "text/plain": [
       "<Figure size 864x864 with 0 Axes>"
      ]
     },
     "metadata": {},
     "output_type": "display_data"
    },
    {
     "data": {
      "text/plain": [
       "<Figure size 864x864 with 0 Axes>"
      ]
     },
     "metadata": {},
     "output_type": "display_data"
    },
    {
     "data": {
      "text/plain": [
       "<Figure size 864x864 with 0 Axes>"
      ]
     },
     "metadata": {},
     "output_type": "display_data"
    },
    {
     "data": {
      "text/plain": [
       "<Figure size 864x864 with 0 Axes>"
      ]
     },
     "metadata": {},
     "output_type": "display_data"
    },
    {
     "data": {
      "text/plain": [
       "<Figure size 864x864 with 0 Axes>"
      ]
     },
     "metadata": {},
     "output_type": "display_data"
    },
    {
     "data": {
      "text/plain": [
       "<Figure size 864x864 with 0 Axes>"
      ]
     },
     "metadata": {},
     "output_type": "display_data"
    },
    {
     "data": {
      "text/plain": [
       "<Figure size 864x864 with 0 Axes>"
      ]
     },
     "metadata": {},
     "output_type": "display_data"
    },
    {
     "data": {
      "text/plain": [
       "<Figure size 864x864 with 0 Axes>"
      ]
     },
     "metadata": {},
     "output_type": "display_data"
    },
    {
     "data": {
      "text/plain": [
       "<Figure size 864x864 with 0 Axes>"
      ]
     },
     "metadata": {},
     "output_type": "display_data"
    },
    {
     "data": {
      "text/plain": [
       "<Figure size 864x864 with 0 Axes>"
      ]
     },
     "metadata": {},
     "output_type": "display_data"
    }
   ],
   "source": [
    "np.set_printoptions(precision=3)\n",
    "\n",
    "learning_rate = 0.02\n",
    "\n",
    "# Reinitialize Wei\n",
    "w, b = [], []\n",
    "add_layer(w, b, 3, input_dim=4)\n",
    "add_layer(w, b, 9)\n",
    "add_layer(w, b, 9)\n",
    "add_layer(w, b, 3)\n",
    "\n",
    "\n",
    "def plot_progress(epoch, title):\n",
    "    pred = forward_prop(data.iloc()[:,:4].to_numpy())\n",
    "    x = np.array([loss(pred[i], data.iloc()[i, 4:].to_numpy()) for i in range(len(pred))])\n",
    "    plot(x*10500, f'./plot/plot-{str(epoch).zfill(10)}.png', title)\n",
    "\n",
    "def train_iris(epochs, size=100, threshold=0.0001, print_interval=1):\n",
    "    l = []\n",
    "    for i in range(epochs):\n",
    "        sum_loss = 0.0\n",
    "        X, y = get_batch(size)\n",
    "        \n",
    "        loss = backprop_entry(X, y)\n",
    "        if np.isnan(loss) or np.isinf(loss) or loss > 30: return\n",
    "        if not i % print_interval: plot_progress(i, title=f'Epoch {i}\\nLoss: {loss}')\n",
    "        if not i % print_interval: print(f'[Epoch: {i}] Loss: {loss}')\n",
    "    return np.array(l).flatten()\n",
    "\n",
    "loss_over_time = train_iris(1000, 1000, print_interval=10)\n",
    "eval_iris()"
   ]
  },
  {
   "cell_type": "code",
   "execution_count": 27,
   "metadata": {},
   "outputs": [
    {
     "name": "stdout",
     "output_type": "stream",
     "text": [
      "Prediction: 2 (2) [0.0012188285344752327]\n",
      "Prediction: 2 (2) [0.009270333121173594]\n",
      "Prediction: 0 (0) [0.0006989888195230844]\n",
      "Prediction: 1 (1) [0.0020973451777913654]\n",
      "Prediction: 0 (0) [0.018831007533301393]\n",
      "Prediction: 1 (1) [0.006143811973531553]\n",
      "Prediction: 2 (2) [0.0012188285344752327]\n",
      "Prediction: 0 (0) [0.004317992632145459]\n",
      "Prediction: 0 (0) [0.0034972866402013373]\n",
      "Prediction: 0 (0) [0.00027522496254157825]\n",
      "Prediction: 0 (0) [0.0034972866402013373]\n",
      "Prediction: 2 (2) [0.00044210652706016347]\n",
      "Prediction: 1 (1) [0.0021965410204396363]\n",
      "Prediction: 1 (1) [0.00157126691350693]\n",
      "Prediction: 1 (1) [0.01509798641489862]\n",
      "Prediction: 2 (2) [0.00027028735562496244]\n",
      "Prediction: 0 (0) [0.0016726728603097519]\n",
      "Prediction: 1 (1) [0.0017081150702217378]\n",
      "Prediction: 2 (2) [0.026426741010337932]\n",
      "Prediction: 1 (1) [0.0023507980571148652]\n"
     ]
    }
   ],
   "source": [
    "eval_iris()"
   ]
  },
  {
   "cell_type": "code",
   "execution_count": null,
   "metadata": {},
   "outputs": [],
   "source": []
  },
  {
   "cell_type": "code",
   "execution_count": 10,
   "metadata": {},
   "outputs": [
    {
     "name": "stdout",
     "output_type": "stream",
     "text": [
      "(3,)\n",
      "(6,)\n",
      "(6,)\n",
      "(6,)\n",
      "(3,)\n"
     ]
    }
   ],
   "source": [
    "for i in b:\n",
    "    print(i.shape)"
   ]
  },
  {
   "cell_type": "code",
   "execution_count": null,
   "metadata": {},
   "outputs": [],
   "source": []
  }
 ],
 "metadata": {
  "kernelspec": {
   "display_name": "Python 3",
   "language": "python",
   "name": "python3"
  },
  "language_info": {
   "codemirror_mode": {
    "name": "ipython",
    "version": 3
   },
   "file_extension": ".py",
   "mimetype": "text/x-python",
   "name": "python",
   "nbconvert_exporter": "python",
   "pygments_lexer": "ipython3",
   "version": "3.7.7"
  }
 },
 "nbformat": 4,
 "nbformat_minor": 2
}
