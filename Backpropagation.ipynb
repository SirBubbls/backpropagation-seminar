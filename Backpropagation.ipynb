{
 "cells": [
  {
   "cell_type": "code",
   "execution_count": 1,
   "metadata": {
    "collapsed": false,
    "jupyter": {
     "outputs_hidden": false
    }
   },
   "outputs": [],
   "source": [
    "import numpy as np\n",
    "import math\n",
    "from matplotlib import pyplot as plt"
   ]
  },
  {
   "cell_type": "markdown",
   "metadata": {},
   "source": [
    "# Activation Functions\n",
    "\n",
    "\n",
    "![test](https://www.i2tutorials.com/wp-content/uploads/2019/09/Deep-learning-25-i2tutorials.png)\n",
    "\n"
   ]
  },
  {
   "cell_type": "code",
   "execution_count": 2,
   "metadata": {
    "collapsed": false,
    "jupyter": {
     "outputs_hidden": false
    }
   },
   "outputs": [],
   "source": [
    "def relu(z, deriv=False):\n",
    "    activations = []\n",
    "    shape = z.shape\n",
    "    z = z.flatten()\n",
    "    if deriv:\n",
    "        for i in range(len(z)):\n",
    "            if z[i] >= 0:\n",
    "                activations.append(1)\n",
    "            else:\n",
    "                activations.append(-0.2)\n",
    "        return np.array(activations).reshape(shape)\n",
    "    for i in range(len(z)):\n",
    "        if z[i] > 0:\n",
    "            activations.append(z[i])\n",
    "        else:\n",
    "            activations.append(-0.2 * z[i])\n",
    "    return np.array(activations).reshape(shape)"
   ]
  },
  {
   "cell_type": "markdown",
   "metadata": {},
   "source": [
    "# Weight & Bias Initialization\n",
    "\n",
    "Bias Values ($b$) are initialized with $0$.  \n",
    "Weight Values ($w$) are initialized with random values between $-2$ and $2$."
   ]
  },
  {
   "cell_type": "code",
   "execution_count": 3,
   "metadata": {
    "collapsed": false,
    "jupyter": {
     "outputs_hidden": false
    }
   },
   "outputs": [
    {
     "name": "stdout",
     "output_type": "stream",
     "text": [
      "Layer 0:\n",
      "Weights:\n",
      " [[0.99518784 0.06625664 0.9412545 ]\n",
      " [0.60178277 0.41101902 0.46634165]]\n",
      "Bias: \n",
      "[0. 0. 0.]\n",
      "\n",
      "Layer 1:\n",
      "Weights:\n",
      " [[0.36098652 0.5992778  0.61344756]\n",
      " [0.36672786 0.16745812 0.93395789]\n",
      " [0.23537374 0.60426969 0.28901035]]\n",
      "Bias: \n",
      "[0. 0. 0.]\n",
      "\n",
      "Layer 2:\n",
      "Weights:\n",
      " [[0.36353909 0.27046865]\n",
      " [0.10499192 0.92876376]\n",
      " [0.42341423 0.54617965]]\n",
      "Bias: \n",
      "[0. 0.]\n",
      "\n",
      "Layer 3:\n",
      "Weights:\n",
      " [[0.32089119]\n",
      " [0.55326808]]\n",
      "Bias: \n",
      "[0.]\n",
      "\n"
     ]
    }
   ],
   "source": [
    "def initialize(min=0, max=1, do_print=True):\n",
    "    global w, b\n",
    "    w = [\n",
    "            max * np.random.uniform(min, max, (2, 3)),\n",
    "            max * np.random.uniform(min, max, (3, 3)),\n",
    "            max * np.random.uniform(min, max, (3, 2)),\n",
    "            max * np.random.uniform(min, max, (2, 1))\n",
    "        ]\n",
    "    b = [\n",
    "        np.array(np.zeros(3)),\n",
    "        np.array(np.zeros(3)),\n",
    "        np.array(np.zeros(2)),\n",
    "        np.array(np.zeros(1))\n",
    "    ]\n",
    "    if do_print:\n",
    "        for i in range(len(b)): print(f'Layer {i}:\\nWeights:\\n {w[i]}\\nBias: \\n{b[i]}\\n')    \n",
    "\n",
    "w, b = [], []\n",
    "\n",
    "initialize()\n",
    "\n"
   ]
  },
  {
   "cell_type": "markdown",
   "metadata": {},
   "source": [
    "# Forward Propagation\n",
    "$a$ holds each layers activation vector.  \n",
    "$z$ holds each layers pre nonlinearity vector.\n",
    "\n",
    "## Algorithm\n",
    "\n",
    "For each layer $L$, starting with $L_0$ we multiply the $h$ vector with the weight matrix $w$.\n",
    "\n",
    "$$\n",
    "w = \\left[ \\begin{array}{rrr}\n",
    "1.3 & 0.2 \\\\                                              \n",
    "0.1 & 1.4 \\\\\n",
    "1.2 & 0 \\\\\n",
    "\\end{array}\\right] \\ \\ \\ \\ \\ \\ \\ \n",
    "h = \\left( \\begin{array}{rrr}\n",
    "1.3 \\\\                                              \n",
    "0.1 \\\\\n",
    "1.2 \\\\\n",
    "\\end{array}\\right)\n",
    "$$"
   ]
  },
  {
   "cell_type": "code",
   "execution_count": 4,
   "metadata": {},
   "outputs": [
    {
     "name": "stdout",
     "output_type": "stream",
     "text": [
      "Layer 0:\n",
      "Weights:\n",
      " [[0.32536823 0.04899932 0.14864151]\n",
      " [0.94075787 0.7074265  0.56261487]]\n",
      "Bias: \n",
      "[0. 0. 0.]\n",
      "\n",
      "Layer 1:\n",
      "Weights:\n",
      " [[0.67694373 0.74869839 0.70778102]\n",
      " [0.85755744 0.17796351 0.2490161 ]\n",
      " [0.26323755 0.52519175 0.26837595]]\n",
      "Bias: \n",
      "[0. 0. 0.]\n",
      "\n",
      "Layer 2:\n",
      "Weights:\n",
      " [[0.96743212 0.05189514]\n",
      " [0.03399553 0.46182972]\n",
      " [0.44693799 0.64360076]]\n",
      "Bias: \n",
      "[0. 0.]\n",
      "\n",
      "Layer 3:\n",
      "Weights:\n",
      " [[0.9138108 ]\n",
      " [0.17136098]]\n",
      "Bias: \n",
      "[0.]\n",
      "\n"
     ]
    },
    {
     "data": {
      "text/plain": [
       "array([1.88175523])"
      ]
     },
     "execution_count": 4,
     "metadata": {},
     "output_type": "execute_result"
    }
   ],
   "source": [
    "a, z = [], []\n",
    "\n",
    "initialize()\n",
    "\n",
    "def forward_prop(X):\n",
    "    h = X\n",
    "    global a, z\n",
    "    a,z  = [], []\n",
    "    for i in range(len(w)):\n",
    "        h = h @ w[i] # weigt * input\n",
    "        h = h + b[i] # bias add\n",
    "        z.append(h)\n",
    "        h = relu(h) # Activation Function\n",
    "        a.append(h)\n",
    "    return h\n",
    "\n",
    "forward_prop(np.array([0,1]))"
   ]
  },
  {
   "cell_type": "markdown",
   "metadata": {},
   "source": [
    "# Back Prop\n",
    "\n",
    "for each layer\n",
    "\n",
    "$g = loss'(X,y)$\n",
    "\n",
    "## Step 1 ($a$ to $z$)\n",
    "\n",
    "$g = relu'(z)$\n",
    "\n",
    "\n",
    "\n",
    "## Step 2 ($z$ to $W$)\n",
    "\n",
    "$g = relu'(z) * a_{L-1}$\n",
    "\n",
    "# Dimensions\n",
    "\n",
    "$g = [1\\times2]$\n",
    "\n",
    "## Step 1 Activation Function Derriv\n",
    "\n",
    "$g = [1\\times2]$\n"
   ]
  },
  {
   "cell_type": "code",
   "execution_count": 49,
   "metadata": {
    "collapsed": false,
    "jupyter": {
     "outputs_hidden": false
    }
   },
   "outputs": [
    {
     "name": "stdout",
     "output_type": "stream",
     "text": [
      "[0.521]\n"
     ]
    },
    {
     "data": {
      "text/plain": [
       "array([0.115])"
      ]
     },
     "execution_count": 49,
     "metadata": {},
     "output_type": "execute_result"
    }
   ],
   "source": [
    "learning_rate = 0.05\n",
    "\n",
    "initialize(do_print=False)\n",
    "\n",
    "def back_prop(X, y, print_loss=False):\n",
    "    global a, z, w, b\n",
    "\n",
    "    g = (X - y).reshape(1,-1).T\n",
    "    loss = 0.5*(y - X)**2\n",
    "    \n",
    "    if print_loss:\n",
    "        print(\"Loss: \", (y - X)**2)\n",
    "    \n",
    "    n_weights, n_bias = [], []\n",
    "    \n",
    "    for x in range(len(w)):\n",
    "        i = len(b) - 1 - x  # Reverse Index\n",
    "\n",
    "        # Activation Function Derrivative [1xn]\n",
    "        g = g * relu(z[i], True)  # Activation Function Derriv\n",
    "        \n",
    "        # Derivative with respect to weight [1xn]  \n",
    "        if i-1 < 0: w_der = y.reshape(1,-1).T\n",
    "        else: w_der = a[i-1].reshape(1,-1).T  # Previous Layer Activation\n",
    "        \n",
    "        \n",
    "#         print(w_der.shape, g.shape)\n",
    "#         print((w_der @ g).shape)\n",
    "        \n",
    "        # Change in Weights\n",
    "        new_weights = w[i] - learning_rate * (w_der @ g)\n",
    "        n_weights.append(new_weights)\n",
    "        \n",
    "        new_bias = b[i] - learning_rate * g\n",
    "        n_bias.append(new_bias)\n",
    "        \n",
    "        g = g @ w[i].T \n",
    "    \n",
    "    n_weights = list(reversed(n_weights))\n",
    "    n_bias = list(reversed(n_bias))\n",
    "    w = n_weights\n",
    "    b = n_bias\n",
    "    \n",
    "    return loss\n",
    "    \n",
    "\n",
    "X = forward_prop(np.array([0,1]))\n",
    "print(X)\n",
    "back_prop(X, np.array([1]))"
   ]
  },
  {
   "cell_type": "code",
   "execution_count": 48,
   "metadata": {},
   "outputs": [
    {
     "name": "stdout",
     "output_type": "stream",
     "text": [
      "Loss:  [0.027]\n",
      "Loss:  [0.013]\n",
      "Loss:  [0.008]\n",
      "Loss:  [0.005]\n",
      "Loss:  [0.003]\n",
      "Loss:  [0.002]\n",
      "Loss:  [0.001]\n",
      "Loss:  [0.001]\n",
      "Loss:  [0.]\n",
      "Loss:  [0.]\n",
      "Loss:  [0.]\n",
      "Loss:  [7.71e-05]\n",
      "Loss:  [4.067e-05]\n",
      "Loss:  [2.535e-05]\n",
      "Loss:  [1.439e-05]\n",
      "Loss:  [1.011e-05]\n",
      "Loss:  [4.304e-06]\n",
      "Loss:  [2.405e-06]\n",
      "Loss:  [1.183e-06]\n",
      "Loss:  [6.362e-07]\n",
      "[[0.5]]\n",
      "[[0.899]]\n",
      "[[0.998]]\n",
      "[[1.999]]\n"
     ]
    }
   ],
   "source": [
    "from random import randint\n",
    "\n",
    "def train(epochs, size=100):\n",
    "    for i in range(epochs):\n",
    "        tmp = 0.0\n",
    "        for x in range(size):\n",
    "            y1 = randint(0,1)\n",
    "            y2 = randint(0,1)\n",
    "            tmp += back_prop(forward_prop(np.array([y1,y2])), np.array([y1+y2]))[0]\n",
    "        print(\"Loss: \", tmp/size)\n",
    "\n",
    "initialize(do_print=False)\n",
    "train(20, 100)\n",
    "print(forward_prop(np.array([0.2,0.3])))\n",
    "print(forward_prop(np.array([0.7,0.2])))\n",
    "print(forward_prop(np.array([1,0])))\n",
    "print(forward_prop(np.array([1,1])))"
   ]
  },
  {
   "cell_type": "markdown",
   "metadata": {},
   "source": [
    "## Learning XOR"
   ]
  },
  {
   "cell_type": "code",
   "execution_count": 7,
   "metadata": {},
   "outputs": [
    {
     "name": "stdout",
     "output_type": "stream",
     "text": [
      "Layer 0:\n",
      "Weights:\n",
      " [[ 0.45263652 -0.36990386 -0.35335585]\n",
      " [ 0.58963526 -0.56347703  0.10687987]]\n",
      "Bias: \n",
      "[0. 0. 0.]\n",
      "\n",
      "Layer 1:\n",
      "Weights:\n",
      " [[ 0.93097644  0.51729997  0.996151  ]\n",
      " [-0.44854811 -0.11189472 -0.207422  ]\n",
      " [-0.1513764  -0.59704283  0.5785767 ]]\n",
      "Bias: \n",
      "[0. 0. 0.]\n",
      "\n",
      "Layer 2:\n",
      "Weights:\n",
      " [[ 0.56381598 -0.7113131 ]\n",
      " [-0.92314748  0.70076371]\n",
      " [-0.95961147  0.47062027]]\n",
      "Bias: \n",
      "[0. 0.]\n",
      "\n",
      "Layer 3:\n",
      "Weights:\n",
      " [[-0.01605429]\n",
      " [-0.04958998]]\n",
      "Bias: \n",
      "[0.]\n",
      "\n",
      "Loss:  [0.14418422]\n",
      "Loss:  [0.05672511]\n",
      "Loss:  [0.00667237]\n",
      "Loss:  [0.0009283]\n",
      "Loss:  [0.00010258]\n",
      "Loss:  [1.73457745e-05]\n",
      "Loss:  [5.37101084e-06]\n",
      "Loss:  [2.00479364e-06]\n",
      "Loss:  [8.07286043e-07]\n",
      "Loss:  [2.7726979e-07]\n",
      "[[0.99988251]]\n",
      "[[1.00007788]]\n",
      "[[0.00108673]]\n",
      "[[7.22759909e-05]]\n"
     ]
    },
    {
     "data": {
      "text/plain": [
       "[<matplotlib.lines.Line2D at 0x116982250>]"
      ]
     },
     "execution_count": 7,
     "metadata": {},
     "output_type": "execute_result"
    },
    {
     "data": {
      "image/png": "[encoded data removed]",
      "text/plain": [
       "<Figure size 432x288 with 1 Axes>"
      ]
     },
     "metadata": {
      "needs_background": "light"
     },
     "output_type": "display_data"
    }
   ],
   "source": [
    "X = [\n",
    "    [0,1],\n",
    "    [0,0],\n",
    "    [1,0],\n",
    "    [1,1]\n",
    "]\n",
    "\n",
    "y = [1,0,1,0]\n",
    "\n",
    "initialize(-1, 1)\n",
    "\n",
    "def train(epochs, size=100):\n",
    "    l = []\n",
    "    for i in range(epochs):\n",
    "        tmp = 0.0\n",
    "        for x in range(size):\n",
    "            y1 = randint(0,3)\n",
    "            tmp += back_prop(forward_prop(np.array(X[y1])), np.array(y[y1]))[0]\n",
    "        l.append(tmp/size)\n",
    "        print(\"Loss: \", tmp/size)\n",
    "    return np.array(l).flatten()\n",
    "\n",
    "loss_over_time =  train(10,1000)\n",
    "\n",
    "print(forward_prop(np.array([1,0])))\n",
    "print(forward_prop(np.array([0,1])))\n",
    "print(forward_prop(np.array([0,0])))\n",
    "print(forward_prop(np.array([1,1])))\n",
    "\n",
    "plt.plot(loss_over_time)"
   ]
  },
  {
   "cell_type": "code",
   "execution_count": 44,
   "metadata": {},
   "outputs": [
    {
     "data": {
      "text/plain": [
       "array([[9.986e-01],\n",
       "       [2.410e-05],\n",
       "       [1.001e+00],\n",
       "       [4.559e-06]])"
      ]
     },
     "execution_count": 44,
     "metadata": {},
     "output_type": "execute_result"
    }
   ],
   "source": [
    "forward_prop(np.array(X))"
   ]
  },
  {
   "cell_type": "code",
   "execution_count": 45,
   "metadata": {},
   "outputs": [
    {
     "name": "stdout",
     "output_type": "stream",
     "text": [
      "Layer 0:\n",
      "Weights:\n",
      " [[0.771 0.729 0.373]\n",
      " [0.272 0.665 0.537]]\n",
      "Bias: \n",
      "[0. 0. 0.]\n",
      "\n",
      "Layer 1:\n",
      "Weights:\n",
      " [[0.918 0.839 0.013]\n",
      " [0.298 0.202 0.563]\n",
      " [0.63  0.771 0.68 ]]\n",
      "Bias: \n",
      "[0. 0. 0.]\n",
      "\n",
      "Layer 2:\n",
      "Weights:\n",
      " [[0.142 0.176]\n",
      " [0.327 0.907]\n",
      " [0.705 0.31 ]]\n",
      "Bias: \n",
      "[0. 0.]\n",
      "\n",
      "Layer 3:\n",
      "Weights:\n",
      " [[0.514]\n",
      " [0.613]]\n",
      "Bias: \n",
      "[0.]\n",
      "\n"
     ]
    }
   ],
   "source": [
    "initialize()"
   ]
  },
  {
   "cell_type": "markdown",
   "metadata": {},
   "source": [
    "# Recursive Backpropagation Implementation\n",
    "Exmaple: Learning XOR"
   ]
  },
  {
   "cell_type": "code",
   "execution_count": 47,
   "metadata": {},
   "outputs": [
    {
     "name": "stdout",
     "output_type": "stream",
     "text": [
      "[Epoch 0] Loss: [0.04]\n",
      "[Epoch 1] Loss: [0.088]\n",
      "[Epoch 2] Loss: [0.067]\n",
      "[Epoch 3] Loss: [0.068]\n",
      "[Epoch 4] Loss: [0.064]\n",
      "[Epoch 5] Loss: [0.061]\n",
      "[Epoch 6] Loss: [0.046]\n",
      "[Epoch 7] Loss: [0.106]\n",
      "[Epoch 8] Loss: [0.109]\n",
      "[Epoch 9] Loss: [0.011]\n",
      "[Epoch 10] Loss: [0.01]\n",
      "[Epoch 11] Loss: [5.968e-13]\n",
      "[[1.000e+00]\n",
      " [1.000e+00]\n",
      " [8.100e-12]\n",
      " [5.347e-14]]\n"
     ]
    }
   ],
   "source": [
    "np.set_printoptions(precision=3)\n",
    "\n",
    "\n",
    "def backprop_entry(X, y, print_loss=False):\n",
    "    global a, z, w, b, n_weights, n_bias\n",
    "    n_weights, n_bias = [], []\n",
    "    \n",
    "    backprop_rec(0, X, y)\n",
    "    \n",
    "    # Update Weights\n",
    "    w = list(reversed(n_weights))\n",
    "    b = list(reversed(n_bias))\n",
    "    return 0.5*(y - X)**2  # Return Loss\n",
    "\n",
    "\n",
    "def backprop_rec(i, X, y):\n",
    "    global a, z, w, b, n_weights, n_bias\n",
    "\n",
    "    # Base Case\n",
    "    if i+1 > len(w): return (X - y).reshape(1,-1).T\n",
    "    \n",
    "    g = backprop_rec(i+1, X, y) * relu(z[i], True)  # Get Next Layer Derivative\n",
    "    \n",
    "    # Derivative with respect to weight [1xn]  \n",
    "    if i-1 < 0: w_der = y.reshape(1,-1).T  # Input Matrix\n",
    "    else: w_der = a[i-1].reshape(1,-1).T  # Previous Layer Activation\n",
    "\n",
    "    # Save change in weights\n",
    "    n_weights.append(w[i] - learning_rate * (w_der @ g))\n",
    "    n_bias.append(b[i] - learning_rate * g)\n",
    "    \n",
    "    return g @ w[i].T \n",
    "\n",
    "def train_rec(epochs, size=100, threshold=0.0001):\n",
    "    l = []\n",
    "    for i in range(epochs):\n",
    "        sum_loss = 0.0\n",
    "        for x in range(size):\n",
    "            y1 = randint(0,3)\n",
    "            \n",
    "            sum_loss += backprop_entry(forward_prop(np.array(X[y1])), np.array(y[y1]))[0]\n",
    "        l.append(sum_loss/size)\n",
    "        print(f'[Epoch {i}] Loss: {l[-1]}')\n",
    "        if l[-1] < threshold: break\n",
    "    return np.array(l).flatten()\n",
    "\n",
    "initialize(-1, 1, do_print=False)\n",
    "\n",
    "loss_over_time = train_rec(200,1000)\n",
    "print(forward_prop(np.array([[1,0], [1,0], [1,1], [0,0]])))"
   ]
  },
  {
   "cell_type": "code",
   "execution_count": null,
   "metadata": {},
   "outputs": [],
   "source": []
  },
  {
   "cell_type": "code",
   "execution_count": null,
   "metadata": {},
   "outputs": [],
   "source": []
  }
 ],
 "metadata": {
  "kernelspec": {
   "display_name": "Python 3",
   "language": "python",
   "name": "python3"
  },
  "language_info": {
   "codemirror_mode": {
    "name": "ipython",
    "version": 3
   },
   "file_extension": ".py",
   "mimetype": "text/x-python",
   "name": "python",
   "nbconvert_exporter": "python",
   "pygments_lexer": "ipython3",
   "version": "3.7.7"
  },
  "name": "Minimal Backprop.ipynb"
 },
 "nbformat": 4,
 "nbformat_minor": 4
}
