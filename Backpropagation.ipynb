{
 "cells": [
  {
   "cell_type": "code",
   "execution_count": 1,
   "metadata": {
    "collapsed": false,
    "jupyter": {
     "outputs_hidden": false
    }
   },
   "outputs": [],
   "source": [
    "import numpy as np\n",
    "import math\n",
    "from matplotlib import pyplot as plt"
   ]
  },
  {
   "cell_type": "markdown",
   "metadata": {},
   "source": [
    "# Activation Function\n",
    "\n",
    "\n",
    "![test](https://www.i2tutorials.com/wp-content/uploads/2019/09/Deep-learning-25-i2tutorials.png)\n",
    "\n"
   ]
  },
  {
   "cell_type": "code",
   "execution_count": 27,
   "metadata": {
    "collapsed": false,
    "jupyter": {
     "outputs_hidden": false
    }
   },
   "outputs": [
    {
     "name": "stdout",
     "output_type": "stream",
     "text": [
      "LeakyReLU:  [1.0, 0.0, -5.0]  ->  [1.0, 0.0, -1.0]\n",
      "LeakyReLU (deriv):  [1.0, 0.0, -5.0]  ->  [1.0, 1.0, 0.2]\n"
     ]
    }
   ],
   "source": [
    "def relu(z, deriv=False):\n",
    "    activations = []\n",
    "    shape = z.shape\n",
    "    z = z.flatten()\n",
    "    if deriv:  # Return Derivative of Function\n",
    "        \n",
    "        for i in range(len(z)):  # Element Wise\n",
    "            if z[i] >= 0:\n",
    "                activations.append(1)\n",
    "            else:\n",
    "                activations.append(0.2)\n",
    "                \n",
    "        return np.array(activations).reshape(shape)\n",
    "    \n",
    "    for i in range(len(z)):\n",
    "        if z[i] > 0:\n",
    "            activations.append(z[i])\n",
    "        else:\n",
    "            activations.append(0.2 * z[i])\n",
    "            \n",
    "    return np.array(activations).reshape(shape)\n",
    "\n",
    "input = [1.,0.,-5.]\n",
    "print('LeakyReLU: ', input, ' -> ', list(relu(np.array(input))))\n",
    "\n",
    "print('LeakyReLU (deriv): ', input, ' -> ', list(relu(np.array(input), True)))"
   ]
  },
  {
   "cell_type": "markdown",
   "metadata": {},
   "source": [
    "# Weight & Bias Initialization\n",
    "\n",
    "Bias Values ($b$) are initialized with $0$.  \n",
    "Weight Values ($w$) are initialized with random values between $min$ and $max$.\n",
    "\n",
    "## Neural Network Structure\n",
    "\n",
    "**Neural Net Structure** `2 (Input) - 3 (Hidden) - 3 (Hidden) - 2 (Output)`"
   ]
  },
  {
   "cell_type": "code",
   "execution_count": 28,
   "metadata": {
    "collapsed": false,
    "jupyter": {
     "outputs_hidden": false
    }
   },
   "outputs": [
    {
     "name": "stdout",
     "output_type": "stream",
     "text": [
      "Layer 0:\n",
      "Weights:\n",
      " [[ 0.746  0.977 -0.085]\n",
      " [-0.785 -0.842 -0.743]] (Shape: (2, 3))\n",
      "Bias: \n",
      "[0. 0. 0.] (Shape: (3,))\n",
      "\n",
      "Layer 1:\n",
      "Weights:\n",
      " [[-0.796 -0.006  0.032]\n",
      " [ 0.078 -0.052  0.457]\n",
      " [ 0.993  0.848  0.883]] (Shape: (3, 3))\n",
      "Bias: \n",
      "[0. 0. 0.] (Shape: (3,))\n",
      "\n",
      "Layer 2:\n",
      "Weights:\n",
      " [[ 0.544 -0.945]\n",
      " [-0.226  0.87 ]\n",
      " [-0.871 -0.589]] (Shape: (3, 2))\n",
      "Bias: \n",
      "[0. 0.] (Shape: (2,))\n",
      "\n",
      "Layer 3:\n",
      "Weights:\n",
      " [[0.692]\n",
      " [0.387]] (Shape: (2, 1))\n",
      "Bias: \n",
      "[0.] (Shape: (1,))\n",
      "\n"
     ]
    }
   ],
   "source": [
    "def initialize(min=0, max=1, do_print=True):\n",
    "    global w, b\n",
    "    w = [\n",
    "            max * np.random.uniform(min, max, (2, 3)),\n",
    "            max * np.random.uniform(min, max, (3, 3)),\n",
    "            max * np.random.uniform(min, max, (3, 2)),\n",
    "            max * np.random.uniform(min, max, (2, 1))\n",
    "        ]\n",
    "    b = [\n",
    "        np.array(np.zeros(3)),\n",
    "        np.array(np.zeros(3)),\n",
    "        np.array(np.zeros(2)),\n",
    "        np.array(np.zeros(1))\n",
    "    ]\n",
    "    if do_print:\n",
    "        for i in range(len(b)): print(f'Layer {i}:\\nWeights:\\n {w[i]} (Shape: {w[i].shape})\\nBias: \\n{b[i]} (Shape: {b[i].shape})\\n')    \n",
    "\n",
    "w, b = [], []\n",
    "\n",
    "initialize(-1,1)"
   ]
  },
  {
   "cell_type": "markdown",
   "metadata": {},
   "source": [
    "# Forward Propagation\n",
    "List $a$ holds each layers activation vector.  \n",
    "List $z$ holds each layers pre nonlinearity vector.\n",
    "\n",
    "## Algorithm\n",
    "\n",
    "For each layer $L$, starting with $L_0$ we multiply the $h$ vector with the weight matrix $w$.\n",
    "\n",
    "$$\n",
    "w = \\left[ \\begin{array}{rrr}\n",
    "1.3 & 0.2 \\\\                                              \n",
    "0.1 & 1.4 \\\\\n",
    "1.2 & 0 \\\\\n",
    "\\end{array}\\right] \\ \\ \\ \\ \\ \\ \\ \n",
    "h = \\left( \\begin{array}{rrr}\n",
    "1.3 \\\\                                              \n",
    "0.1 \\\\\n",
    "1.2 \\\\\n",
    "\\end{array}\\right)\n",
    "$$"
   ]
  },
  {
   "cell_type": "code",
   "execution_count": 46,
   "metadata": {},
   "outputs": [
    {
     "name": "stdout",
     "output_type": "stream",
     "text": [
      "h:  [[0 1]] (1, 2)\n",
      "Layer 0 | [[0 1]] dot [[0.289 0.406 0.787]\n",
      " [0.666 0.232 0.729]]\n",
      "Layer 1 | [[0.666 0.232 0.729]] dot [[6.192e-04 3.636e-01 5.763e-01]\n",
      " [8.018e-01 5.606e-02 4.077e-01]\n",
      " [5.536e-01 5.455e-01 3.356e-01]]\n",
      "Layer 2 | [[0.59  0.653 0.723]] dot [[0.903 0.748]\n",
      " [0.943 0.387]\n",
      " [0.318 0.345]]\n",
      "Layer 3 | [[1.378 0.943]] dot [[0.361]\n",
      " [0.164]]\n"
     ]
    },
    {
     "data": {
      "text/plain": [
       "array([[0.652]])"
      ]
     },
     "execution_count": 46,
     "metadata": {},
     "output_type": "execute_result"
    }
   ],
   "source": [
    "a, z = [], []  # Global Variables\n",
    "\n",
    "initialize(do_print=False)  # Weight & Bias Initialization\n",
    "\n",
    "def forward_prop(X, do_print=False):\n",
    "    h = np.array([X])\n",
    "    if do_print: print('h: ', h, h.shape)\n",
    "    global a, z\n",
    "    a,z  = [], []\n",
    "    for i in range(len(w)):\n",
    "        if do_print: print(f'Layer {i} | {h} dot {w[i]}')\n",
    "        h = h @ w[i] # weigt * input\n",
    "        h = h + b[i] # bias add\n",
    "        z.append(h)\n",
    "        h = relu(h) # Activation Function\n",
    "        a.append(h)\n",
    "    return h\n",
    "\n",
    "forward_prop(np.array([0,1]), True)"
   ]
  },
  {
   "cell_type": "markdown",
   "metadata": {},
   "source": [
    "# Back-propagation\n",
    "\n",
    "\n",
    "$g = loss'(X,y)$\n",
    "\n",
    "## for each layer\n",
    "\n",
    "### Step 1 ($a$ to $z$)\n",
    "\n",
    "$g = relu'(z)$\n",
    "\n",
    "\n",
    "\n",
    "### Step 2 ($z$ to $W$)\n",
    "\n",
    "$g = relu'(z) * a_{L-1}$"
   ]
  },
  {
   "cell_type": "code",
   "execution_count": 5,
   "metadata": {
    "collapsed": false,
    "jupyter": {
     "outputs_hidden": false
    }
   },
   "outputs": [
    {
     "name": "stdout",
     "output_type": "stream",
     "text": [
      "[1.39361445]\n"
     ]
    },
    {
     "data": {
      "text/plain": [
       "array([0.07746617])"
      ]
     },
     "execution_count": 5,
     "metadata": {},
     "output_type": "execute_result"
    }
   ],
   "source": [
    "learning_rate = 0.05\n",
    "\n",
    "initialize(do_print=False)\n",
    "\n",
    "def back_prop(X, y, print_loss=False):\n",
    "    global a, z, w, b\n",
    "\n",
    "    loss = 0.5*(y - X)**2  #  Calculate Loss Value\n",
    "    g = (X - y).reshape(1,-1).T  # Loss Function Derivative\n",
    "    \n",
    "    if print_loss:  # Print Loss \n",
    "        print(\"Loss: \", (y - X)**2)\n",
    "    \n",
    "    n_weights, n_bias = [], []\n",
    "    \n",
    "    for x in range(len(w)):  # Iterate through NN Layers\n",
    "        i = len(b) - 1 - x  # Reverse Index\n",
    "\n",
    "        # Activation Function Derivative \n",
    "        g = g * relu(z[i], True)  # Activation Function Derivative\n",
    "        \n",
    "        # Derivative with respect to weight\n",
    "        if i-1 < 0: w_der = y.reshape(1,-1).T\n",
    "        else: w_der = a[i-1].reshape(1,-1).T  # Previous Layer Activation\n",
    "        \n",
    "        # Change in Weights & Bias\n",
    "        n_weights.append(w[i] - learning_rate * (w_der @ g))\n",
    "        n_bias.append(b[i] - learning_rate * g)\n",
    "        \n",
    "        # Deriv for next Layer\n",
    "        g = g @ w[i].T \n",
    "    \n",
    "    # Updating Weights\n",
    "    w = list(reversed(n_weights))\n",
    "    b = list(reversed(n_bias))\n",
    "    \n",
    "    return loss\n",
    "    \n",
    "\n",
    "X = forward_prop(np.array([0,1]))\n",
    "print(X)\n",
    "back_prop(X, np.array([1]))"
   ]
  },
  {
   "cell_type": "markdown",
   "metadata": {},
   "source": [
    "# Training Function\n",
    "\n",
    "## Adding 2 Numbers\n",
    "\n",
    "We train a simple Function $f^*(x)=x_1+x_2$"
   ]
  },
  {
   "cell_type": "code",
   "execution_count": 96,
   "metadata": {},
   "outputs": [
    {
     "name": "stdout",
     "output_type": "stream",
     "text": [
      "Epoch 0 | Loss:  [0.014]\n",
      "Epoch 1 | Loss:  [4.835e-05]\n",
      "Epoch 2 | Loss:  [3.136e-05]\n",
      "Epoch 3 | Loss:  [2.846e-05]\n",
      "Epoch 4 | Loss:  [2.4e-05]\n",
      "Epoch 5 | Loss:  [2.497e-05]\n",
      "Epoch 6 | Loss:  [2.929e-05]\n",
      "Epoch 7 | Loss:  [3.049e-05]\n",
      "Epoch 8 | Loss:  [2.423e-05]\n",
      "Epoch 9 | Loss:  [2.968e-05]\n",
      "Epoch 10 | Loss:  [2.634e-05]\n",
      "Epoch 11 | Loss:  [2.389e-05]\n",
      "Epoch 12 | Loss:  [1.908e-05]\n",
      "Epoch 13 | Loss:  [2.024e-05]\n",
      "Epoch 14 | Loss:  [2.019e-05]\n",
      "Epoch 15 | Loss:  [1.746e-05]\n",
      "Epoch 16 | Loss:  [2.067e-05]\n",
      "Epoch 17 | Loss:  [1.663e-05]\n",
      "Epoch 18 | Loss:  [1.882e-05]\n",
      "Epoch 19 | Loss:  [1.815e-05]\n",
      "\n",
      "Input:\n",
      "[[0.2 0.3]\n",
      " [0.7 0.2]\n",
      " [1.  0. ]\n",
      " [1.  1. ]] \n",
      "Output:\n",
      "[[0.497]\n",
      " [0.901]\n",
      " [1.005]\n",
      " [1.997]]\n"
     ]
    }
   ],
   "source": [
    "from random import randint\n",
    "\n",
    "def train(epochs, size=100):\n",
    "    for i in range(epochs):\n",
    "        tmp = 0.0\n",
    "        for x in range(size):\n",
    "            y1 = randint(0,1)  # X1\n",
    "            y2 = randint(0,1)  # X2\n",
    "            tmp += back_prop(forward_prop(np.array([y1,y2])), np.array([y1+y2]))[0]\n",
    "        print(f'Epoch {i} | Loss: ', tmp/size)\n",
    "\n",
    "initialize(do_print=False)\n",
    "train(20, 100)\n",
    "\n",
    "print('\\nInput:')\n",
    "print(np.array([[0.2,0.3], \n",
    "     [0.7, 0.2], \n",
    "     [1.,0.], \n",
    "     [1,1]]), '\\nOutput:')\n",
    "print(forward_prop(np.array([[0.2,0.3], \n",
    "                             [0.7, 0.2], \n",
    "                             [1.,0.], \n",
    "                             [1,1]]))[0])"
   ]
  },
  {
   "cell_type": "markdown",
   "metadata": {},
   "source": [
    "## Learning XOR"
   ]
  },
  {
   "cell_type": "code",
   "execution_count": 93,
   "metadata": {},
   "outputs": [
    {
     "name": "stdout",
     "output_type": "stream",
     "text": [
      "Loss:  [0.123]\n",
      "Loss:  [0.112]\n",
      "Loss:  [0.13]\n",
      "Loss:  [0.124]\n",
      "Loss:  [0.086]\n",
      "Loss:  [0.063]\n",
      "Loss:  [0.035]\n",
      "Loss:  [0.05]\n",
      "Loss:  [0.032]\n",
      "Loss:  [0.06]\n",
      "Loss:  [0.143]\n",
      "Loss:  [0.136]\n",
      "Loss:  [0.096]\n",
      "Loss:  [0.003]\n",
      "Loss:  [0.001]\n",
      "Loss:  [0.001]\n",
      "Loss:  [0.]\n",
      "Loss:  [0.]\n",
      "Loss:  [0.]\n",
      "Loss:  [6.934e-05]\n",
      "[[1.015]]\n",
      "[[0.988]]\n",
      "[[0.]]\n",
      "[[-0.001]]\n"
     ]
    },
    {
     "data": {
      "text/plain": [
       "[<matplotlib.lines.Line2D at 0x12098fa90>]"
      ]
     },
     "execution_count": 93,
     "metadata": {},
     "output_type": "execute_result"
    },
    {
     "data": {
      "image/png": "[encoded data removed]",
      "text/plain": [
       "<Figure size 432x288 with 1 Axes>"
      ]
     },
     "metadata": {
      "needs_background": "light"
     },
     "output_type": "display_data"
    }
   ],
   "source": [
    "X = [\n",
    "    [0,1],\n",
    "    [0,0],\n",
    "    [1,0],\n",
    "    [1,1]\n",
    "]   # Design Matrix \n",
    "\n",
    "y = [1,0,1,0]    # Labels\n",
    "\n",
    "initialize(-1, 1, do_print=False)  # Reinitialize\n",
    "\n",
    "def train(epochs, size=100):\n",
    "    l = []\n",
    "    for i in range(epochs):\n",
    "        tmp = 0.0\n",
    "        for x in range(size):\n",
    "            y1 = randint(0,3)\n",
    "            tmp += back_prop(forward_prop(np.array(X[y1])), np.array(y[y1]))[0]\n",
    "        l.append(tmp/size)\n",
    "        print(\"Loss: \", tmp/size)\n",
    "        if tmp/size < 0.0001: break\n",
    "    return np.array(l).flatten()\n",
    "\n",
    "loss_over_time =  train(300,600)\n",
    "\n",
    "print(forward_prop(np.array([1,0])))\n",
    "print(forward_prop(np.array([0,1])))\n",
    "print(forward_prop(np.array([0,0])))\n",
    "print(forward_prop(np.array([1,1])))\n",
    "\n",
    "plt.plot(loss_over_time)"
   ]
  },
  {
   "cell_type": "markdown",
   "metadata": {},
   "source": [
    "# Recursive Backpropagation Implementation\n",
    "Exmaple: Learning XOR"
   ]
  },
  {
   "cell_type": "code",
   "execution_count": 98,
   "metadata": {},
   "outputs": [
    {
     "name": "stdout",
     "output_type": "stream",
     "text": [
      "[Epoch 0] Loss: [0.13]\n",
      "[Epoch 1] Loss: [0.129]\n",
      "[Epoch 2] Loss: [0.128]\n",
      "[Epoch 3] Loss: [0.128]\n",
      "[Epoch 4] Loss: [0.128]\n",
      "[Epoch 5] Loss: [0.129]\n",
      "[Epoch 6] Loss: [0.128]\n",
      "[Epoch 7] Loss: [0.128]\n",
      "[Epoch 8] Loss: [0.128]\n",
      "[Epoch 9] Loss: [0.127]\n",
      "[Epoch 10] Loss: [0.119]\n",
      "[Epoch 11] Loss: [0.096]\n",
      "[Epoch 12] Loss: [0.097]\n",
      "[Epoch 13] Loss: [0.094]\n",
      "[Epoch 14] Loss: [0.091]\n",
      "[Epoch 15] Loss: [0.092]\n",
      "[Epoch 16] Loss: [0.093]\n",
      "[Epoch 17] Loss: [0.09]\n",
      "[Epoch 18] Loss: [0.083]\n",
      "[Epoch 19] Loss: [0.011]\n",
      "[Epoch 20] Loss: [2.232e-07]\n",
      "[[[1.000e+00]\n",
      "  [1.000e+00]\n",
      "  [4.996e-06]\n",
      "  [5.688e-07]]]\n"
     ]
    }
   ],
   "source": [
    "np.set_printoptions(precision=3)\n",
    "\n",
    "\n",
    "def backprop_entry(X, y, print_loss=False):\n",
    "    global a, z, w, b, n_weights, n_bias\n",
    "    n_weights, n_bias = [], []\n",
    "    \n",
    "    backprop_rec(0, X, y)\n",
    "    \n",
    "    # Update Weights\n",
    "    w = list(reversed(n_weights))\n",
    "    b = list(reversed(n_bias))\n",
    "    return 0.5*(y - X)**2  # Return Loss\n",
    "\n",
    "\n",
    "def backprop_rec(i, X, y):\n",
    "    global a, z, w, b, n_weights, n_bias\n",
    "\n",
    "    # Base Case\n",
    "    if i+1 > len(w): return (X - y).reshape(1,-1).T\n",
    "    \n",
    "    g = backprop_rec(i+1, X, y) * relu(z[i], True)  # Get Next Layer Derivative\n",
    "    \n",
    "    # Derivative with respect to weight [1xn]  \n",
    "    if i-1 < 0: w_der = y.reshape(1,-1).T  # Input Matrix\n",
    "    else: w_der = a[i-1].reshape(1,-1).T  # Previous Layer Activation\n",
    "\n",
    "    # Save change in weights\n",
    "    n_weights.append(w[i] - learning_rate * (w_der @ g))\n",
    "    n_bias.append(b[i] - learning_rate * g)\n",
    "    \n",
    "    return g @ w[i].T \n",
    "\n",
    "def train_rec(epochs, size=100, threshold=0.0001):\n",
    "    l = []\n",
    "    for i in range(epochs):\n",
    "        sum_loss = 0.0\n",
    "        for x in range(size):\n",
    "            y1 = randint(0,3)\n",
    "            \n",
    "            sum_loss += backprop_entry(forward_prop(np.array(X[y1])), np.array(y[y1]))[0]\n",
    "        l.append(sum_loss/size)\n",
    "        print(f'[Epoch {i}] Loss: {l[-1]}')\n",
    "        if l[-1] < threshold or l[-1] != l[-1]: break\n",
    "    return np.array(l).flatten()\n",
    "\n",
    "# Reinitialize Weights & Bias\n",
    "initialize(-1, 1, do_print=False)\n",
    "\n",
    "loss_over_time = train_rec(200,1000)\n",
    "\n",
    "\n",
    "print(forward_prop(np.array([[1,0], \n",
    "                             [0,1], \n",
    "                             [1,1], \n",
    "                             [0,0]])))"
   ]
  },
  {
   "cell_type": "code",
   "execution_count": null,
   "metadata": {},
   "outputs": [],
   "source": []
  },
  {
   "cell_type": "code",
   "execution_count": null,
   "metadata": {},
   "outputs": [],
   "source": []
  }
 ],
 "metadata": {
  "kernelspec": {
   "display_name": "Python 3",
   "language": "python",
   "name": "python3"
  },
  "language_info": {
   "codemirror_mode": {
    "name": "ipython",
    "version": 3
   },
   "file_extension": ".py",
   "mimetype": "text/x-python",
   "name": "python",
   "nbconvert_exporter": "python",
   "pygments_lexer": "ipython3",
   "version": "3.7.7"
  },
  "name": "Minimal Backprop.ipynb"
 },
 "nbformat": 4,
 "nbformat_minor": 4
}
